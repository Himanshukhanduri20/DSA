{
  "nbformat": 4,
  "nbformat_minor": 0,
  "metadata": {
    "colab": {
      "name": "subsequence.ipynb",
      "provenance": [],
      "authorship_tag": "ABX9TyOKCbuD/2C554l2+DHkT4lg",
      "include_colab_link": true
    },
    "kernelspec": {
      "name": "python3",
      "display_name": "Python 3"
    },
    "language_info": {
      "name": "python"
    }
  },
  "cells": [
    {
      "cell_type": "markdown",
      "metadata": {
        "id": "view-in-github",
        "colab_type": "text"
      },
      "source": [
        "<a href=\"https://colab.research.google.com/github/Himanshukhanduri20/DSA/blob/main/subsequence.ipynb\" target=\"_parent\"><img src=\"https://colab.research.google.com/assets/colab-badge.svg\" alt=\"Open In Colab\"/></a>"
      ]
    },
    {
      "cell_type": "code",
      "execution_count": null,
      "metadata": {
        "colab": {
          "base_uri": "https://localhost:8080/"
        },
        "id": "HQuR4LgZmWPZ",
        "outputId": "0d7b0ec7-627a-4779-d475-f10ca8f4f4f1"
      },
      "outputs": [
        {
          "output_type": "stream",
          "name": "stdout",
          "text": [
            "['c', 'b', 'bc', 'a', 'ac', 'ab', 'abc']\n"
          ]
        }
      ],
      "source": [
        "def subseq(s,i,ans,lst):\n",
        "  if i==len(s):\n",
        "    if len(ans)!=0:\n",
        "      lst.append(ans)\n",
        "  else:\n",
        "    subseq(s,i+1,ans,lst)\n",
        "    subseq(s,i+1,ans+s[i],lst)\n",
        "  return\n",
        "\n",
        "s=\"abc\"\n",
        "ans=\"\"\n",
        "lst=[]\n",
        "subseq(s,0,ans,lst)\n",
        "print(lst)\n"
      ]
    },
    {
      "cell_type": "code",
      "source": [
        "def subseq(s,ans):\n",
        "  if len(s)==0:\n",
        "    if len(ans)!=0:\n",
        "      print(ans)\n",
        "  else:\n",
        "    subseq(s[1:],ans)\n",
        "    subseq(s[1:],ans+s[0])\n",
        "  return\n",
        "\n",
        "s=\"abc\"\n",
        "ans=\"\"\n",
        "subseq(s,ans)\n"
      ],
      "metadata": {
        "colab": {
          "base_uri": "https://localhost:8080/"
        },
        "id": "609dK0npmaBP",
        "outputId": "7355a96e-ab72-4c92-8e2b-9057810a5e6b"
      },
      "execution_count": null,
      "outputs": [
        {
          "output_type": "stream",
          "name": "stdout",
          "text": [
            "c\n",
            "b\n",
            "bc\n",
            "a\n",
            "ac\n",
            "ab\n",
            "abc\n"
          ]
        }
      ]
    },
    {
      "cell_type": "markdown",
      "source": [
        "**392. Is Subsequence** ---->>  https://leetcode.com/problems/is-subsequence/submissions/"
      ],
      "metadata": {
        "id": "ZMFFC_0n6mJ6"
      }
    },
    {
      "cell_type": "code",
      "source": [
        ""
      ],
      "metadata": {
        "id": "5egp5zpE6lbS"
      },
      "execution_count": null,
      "outputs": []
    },
    {
      "cell_type": "code",
      "source": [
        "class Solution(object):\n",
        "    def isSubsequence(self, s, t):\n",
        "        i=0\n",
        "        j=0\n",
        "        while i<len(s) and j<len(t):\n",
        "            if s[i]==t[j]:\n",
        "                i+=1\n",
        "                j+=1\n",
        "            else:\n",
        "                j+=1\n",
        "        if i==len(s):\n",
        "            return True\n",
        "        return False\n",
        "                "
      ],
      "metadata": {
        "id": "BgDyMGzcm7Dq"
      },
      "execution_count": null,
      "outputs": []
    }
  ]
}